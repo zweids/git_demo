{
 "cells": [
  {
   "cell_type": "markdown",
   "metadata": {
    "cell_id": "00000-75ca9b1f-aae2-4256-8627-f9b435d743a8",
    "deepnote_cell_type": "markdown"
   },
   "source": [
    "# Machine Learning in Python - Workshop 0\n",
    "\n",
    "As with any other programming language, the best way to learn Python and its machine learning libraries \n",
    "is to play with them, so follow the steps below and ask a tutor if you get stuck.\n",
    "\n",
    "If you are reading this document then you have most likely been able to obtain the assignment via Deepnote or \n",
    "opened in Jupyter on Noteable or locally. \n",
    "\n",
    "Once you have reached the end of this worksheet you should try generating a PDF of the notebook \n",
    "and submit it on Gradescope (linked on Learn) using the Workshop 0 assignment.\n",
    "\n",
    "---"
   ]
  },
  {
   "cell_type": "markdown",
   "metadata": {
    "cell_id": "00001-f8196d86-a5be-4f65-bac2-f23276b5c290",
    "deepnote_cell_type": "markdown"
   },
   "source": [
    "## 1. Jupyter notebooks\n",
    "\n",
    "A **Jupyter notebook** is a literate programming tool thats allows you to combine text, typeset maths, \n",
    "images, and code (and its output) together in one document. Jupyter notebooks are edited and viewed in \n",
    "a web browser.\n",
    "\n",
    "A Jupyter notebook consists of several **cells**, which can be of 2 main types:\n",
    "* **Markdown cells**, like this one, contain text formatted using Markdown. They can be edited by \n",
    "double-clicking on them. Markdown syntax is straightforward -- you can double-click on the Markdown \n",
    "cells in this notebook to view the source text. Markdown syntax also supports LaTeX typesetting for \n",
    "maths, both inline using `$...$`, e.g. $f: \\mathbb{R}^2 \\to \\mathbb{R}$, and in display mode using \n",
    "`$$...$$`, e.g.\n",
    "\n",
    "$$ \\frac{\\partial f}{\\partial y} = 2e^{-x} \\cos(y). $$\n",
    "\n",
    "* **Code cells**, like the one below, in which we can type and run Python code interactively. They \n",
    "are indicated by `In [ ]:` on the left hand side. Note that cells will be executed in the order you \n",
    "run them (as indicated by the number in the square brackets on the left, to ensure the reproducibility \n",
    "of your document is always a good idea to clear all cells and rerun the *entire* document."
   ]
  },
  {
   "cell_type": "markdown",
   "metadata": {
    "cell_id": "00002-e37826c3-8482-42fa-a7c3-e1e2ac2051a3",
    "deepnote_cell_type": "markdown",
    "tags": []
   },
   "source": [
    "---\n",
    "\n",
    "### &diams; Exercise 1\n",
    "\n",
    "Run the code cell below, you should see the text `This is a code cell!` printed afterwards."
   ]
  },
  {
   "cell_type": "code",
   "execution_count": null,
   "metadata": {
    "cell_id": "00002-a7b5825c-bbd2-420b-a11d-082795d37081",
    "deepnote_cell_type": "code",
    "deepnote_to_be_reexecuted": false,
    "execution_millis": 0,
    "execution_start": 1610377754525,
    "output_cleared": true,
    "source_hash": "eb01f365"
   },
   "outputs": [],
   "source": [
    "print('This is a code cell!')"
   ]
  },
  {
   "cell_type": "markdown",
   "metadata": {
    "cell_id": "00004-19ee19e0-01af-4350-8fa2-844143becba2",
    "deepnote_cell_type": "markdown",
    "tags": []
   },
   "source": [
    "---\n",
    "\n",
    "### &diams; Exercise 2\n",
    "\n",
    "Below is a markdown cell, try adding some text to it and try using some markdown formatting syntax."
   ]
  },
  {
   "cell_type": "markdown",
   "metadata": {
    "cell_id": "00005-eb9c75e1-797f-41bb-b4f7-c5d846651826",
    "deepnote_cell_type": "markdown",
    "tags": []
   },
   "source": []
  },
  {
   "cell_type": "markdown",
   "metadata": {
    "cell_id": "00003-abdf6680-333f-4337-8e0a-cfb1ba498e30",
    "deepnote_cell_type": "markdown",
    "tags": []
   },
   "source": [
    "---"
   ]
  },
  {
   "cell_type": "markdown",
   "metadata": {
    "cell_id": "00004-120a3716-97ba-4c71-b429-b6b7f00dcdbc",
    "deepnote_cell_type": "markdown",
    "tags": []
   },
   "source": [
    "## 2. Checking the Python Environment\n",
    "\n",
    "First we want to make sure that we are using a current version of Python - run the cell below and \n",
    "check to make sure that the version begins with a `3`. If you are using Deepnote or Noteable this should \n",
    "definitely be the case. If you are running a local install of Python and Jupyter then this is very important\n",
    "to check before this week's workshop."
   ]
  },
  {
   "cell_type": "code",
   "execution_count": null,
   "metadata": {
    "cell_id": "00005-ca177332-a6b8-43ec-9df0-f3950b5cca17",
    "deepnote_cell_type": "code",
    "deepnote_to_be_reexecuted": false,
    "execution_millis": 0,
    "execution_start": 1610377906683,
    "output_cleared": true,
    "source_hash": "3c2aebfa",
    "tags": []
   },
   "outputs": [],
   "source": [
    "from platform import python_version\n",
    "print(python_version())"
   ]
  },
  {
   "cell_type": "markdown",
   "metadata": {
    "cell_id": "00006-8d496c92-eb28-4260-992d-f2d48a414636",
    "deepnote_cell_type": "markdown",
    "tags": []
   },
   "source": [
    "Now we can check that you have all of the core libraries necessary for this course installed with up-to-date \n",
    "versions. This is done by checking your installed versions versus those listed in `requirements.txt`."
   ]
  },
  {
   "cell_type": "code",
   "execution_count": null,
   "metadata": {
    "cell_id": "00010-099ada6e-42a1-4aba-a238-47dc02489332",
    "deepnote_cell_type": "code",
    "deepnote_to_be_reexecuted": false,
    "execution_millis": 0,
    "execution_start": 1610378244223,
    "output_cleared": true,
    "source_hash": "8cb9e8ee",
    "tags": []
   },
   "outputs": [],
   "source": [
    "import pkg_resources\n",
    "ok = pkg_resources.require(open('requirements.txt', mode='r'))"
   ]
  },
  {
   "cell_type": "markdown",
   "metadata": {
    "cell_id": "00008-284c413d-ed1b-46be-97b6-8113ea231d9b",
    "deepnote_cell_type": "markdown",
    "tags": []
   },
   "source": [
    "If the cell above runs without any errors or exceptions than all the needed packages are installed. If there \n",
    "is a error, check the very last line to see what if any package is missing. Any missing or outdated packages \n",
    "should be installed / updated and you can then retry running the check above.\n",
    "\n",
    "If you have any difficulties with any of the above checks please post to Piazza with the specific issues / \n",
    "errors you are seeing."
   ]
  }
 ],
 "metadata": {
  "deepnote_execution_queue": [],
  "deepnote_notebook_id": "44bdbecb-7702-4b22-973b-d3cf1c59a37e",
  "kernelspec": {
   "display_name": "Python 3 (ipykernel)",
   "language": "python",
   "name": "python3"
  },
  "language_info": {
   "codemirror_mode": {
    "name": "ipython",
    "version": 3
   },
   "file_extension": ".py",
   "mimetype": "text/x-python",
   "name": "python",
   "nbconvert_exporter": "python",
   "pygments_lexer": "ipython3",
   "version": "3.9.9"
  }
 },
 "nbformat": 4,
 "nbformat_minor": 4
}
